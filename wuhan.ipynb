{
 "cells": [
  {
   "cell_type": "code",
   "execution_count": 1,
   "metadata": {},
   "outputs": [
    {
     "ename": "ModuleNotFoundError",
     "evalue": "No module named 'geopandas'",
     "output_type": "error",
     "traceback": [
      "\u001b[0;31m---------------------------------------------------------------------------\u001b[0m",
      "\u001b[0;31mModuleNotFoundError\u001b[0m                       Traceback (most recent call last)",
      "\u001b[0;32m<ipython-input-1-58aa397c2719>\u001b[0m in \u001b[0;36m<module>\u001b[0;34m\u001b[0m\n\u001b[1;32m      3\u001b[0m \u001b[0;32mimport\u001b[0m \u001b[0mmatplotlib\u001b[0m\u001b[0;34m.\u001b[0m\u001b[0mpyplot\u001b[0m \u001b[0;32mas\u001b[0m \u001b[0mplt\u001b[0m\u001b[0;34m\u001b[0m\u001b[0;34m\u001b[0m\u001b[0m\n\u001b[1;32m      4\u001b[0m \u001b[0;32mimport\u001b[0m \u001b[0mseaborn\u001b[0m \u001b[0;32mas\u001b[0m \u001b[0msns\u001b[0m\u001b[0;34m\u001b[0m\u001b[0;34m\u001b[0m\u001b[0m\n\u001b[0;32m----> 5\u001b[0;31m \u001b[0;32mimport\u001b[0m \u001b[0mgeopandas\u001b[0m \u001b[0;32mas\u001b[0m \u001b[0mgpd\u001b[0m\u001b[0;34m\u001b[0m\u001b[0;34m\u001b[0m\u001b[0m\n\u001b[0m\u001b[1;32m      6\u001b[0m \u001b[0;34m\u001b[0m\u001b[0m\n\u001b[1;32m      7\u001b[0m \u001b[0;32mimport\u001b[0m \u001b[0mos\u001b[0m\u001b[0;34m\u001b[0m\u001b[0;34m\u001b[0m\u001b[0m\n",
      "\u001b[0;31mModuleNotFoundError\u001b[0m: No module named 'geopandas'"
     ]
    }
   ],
   "source": [
    "import numpy as np\n",
    "import pandas as pd\n",
    "import matplotlib.pyplot as plt\n",
    "import seaborn as sns\n",
    "import geopandas as gpd\n",
    "\n",
    "import os"
   ]
  },
  {
   "cell_type": "code",
   "execution_count": null,
   "metadata": {},
   "outputs": [],
   "source": [
    "data = {i[:8]:pd.read_csv(\"clean/\" + i, sep=\"|\", skiprows=[0, 1]) \n",
    "        for c, i in enumerate(os.listdir(\"clean\"))}"
   ]
  },
  {
   "cell_type": "code",
   "execution_count": null,
   "metadata": {},
   "outputs": [],
   "source": [
    "full = []\n",
    "for i in data:\n",
    "    df = data[i]\n",
    "    df.drop([\"notes\", \"sources\"], axis=1, inplace=True)\n",
    "    df.columns = [\"place\", \"confirmed_cases\", \"deaths\"]\n",
    "    df[\"date\"] = i\n",
    "    df.loc[df.place == \"CHINA TOTAL\", \"confirmed_cases\"] = df.confirmed_cases[:-1].astype(int).sum()\n",
    "    df.loc[df.place == \"CHINA TOTAL\", \"deaths\"] = df.deaths[:-1].astype(int).sum()\n",
    "    df[\"confirmed_cases\"] = df.confirmed_cases.astype(int)\n",
    "    df[\"deaths\"] = df.deaths.astype(int)\n",
    "    full.append(data[i])\n",
    "full = pd.concat(full)\n",
    "full.reset_index(drop=True, inplace=True)"
   ]
  },
  {
   "cell_type": "code",
   "execution_count": null,
   "metadata": {
    "scrolled": false
   },
   "outputs": [],
   "source": [
    "t = []\n",
    "for d in (\"20200122\", \"20200123\", \"20200124\"):\n",
    "    confirmed_cases = full[full.date == d].confirmed_cases.sum()\n",
    "    deaths = full[full.date == d].deaths.sum()\n",
    "    t.append([\"CHINA TOTAL\", confirmed_cases, deaths, d])\n",
    "t = pd.DataFrame(t)\n",
    "t.columns = [\"place\", \"confirmed_cases\", \"deaths\", \"date\"]\n",
    "full = pd.concat([full, t])\n",
    "full.reset_index(drop=True, inplace=True)"
   ]
  },
  {
   "cell_type": "code",
   "execution_count": null,
   "metadata": {},
   "outputs": [],
   "source": [
    "china_total = full[full.place == \"CHINA TOTAL\"]\n",
    "hubei = full[full.place == \"Hubei\"]"
   ]
  },
  {
   "cell_type": "code",
   "execution_count": null,
   "metadata": {},
   "outputs": [],
   "source": [
    "plt.figure(figsize=(15, 20))\n",
    "\n",
    "plt.subplot(2, 1, 1)\n",
    "sns.lineplot(x=\"date\", y=\"confirmed_cases\", data=china_total, label=\"China total\")\n",
    "sns.lineplot(x=\"date\", y=\"confirmed_cases\", data=hubei, label=\"Hubei province\")\n",
    "plt.ylim(0, 48000)\n",
    "plt.xticks(rotation=90)\n",
    "plt.title(\"Number of confirmed cases in China and Hubei province\")\n",
    "\n",
    "plt.subplot(2, 1, 2)\n",
    "sns.lineplot(x=\"date\", y=\"deaths\", data=china_total, label=\"China total\")\n",
    "sns.lineplot(x=\"date\", y=\"deaths\", data=hubei, label=\"Hubei province\")\n",
    "plt.ylim(0, 1200)\n",
    "plt.xticks(rotation=90)\n",
    "plt.title(\"Number of deaths in China and Hubei province\")\n",
    "\n",
    "plt.legend()\n",
    "plt.show()"
   ]
  },
  {
   "cell_type": "code",
   "execution_count": null,
   "metadata": {},
   "outputs": [],
   "source": [
    "current = full[(full.place != \"CHINA TOTAL\") & (full.date == \"20200212\")]\n",
    "current.columns = [\"name\", \"confirmed_cases\", \"deaths\", \"date\"]"
   ]
  },
  {
   "cell_type": "code",
   "execution_count": null,
   "metadata": {},
   "outputs": [],
   "source": [
    "china = gpd.read_file(\"china.json\")"
   ]
  },
  {
   "cell_type": "code",
   "execution_count": null,
   "metadata": {},
   "outputs": [],
   "source": [
    "pinyin = [\"Xinjiang\", \"Xizang\", \"Inner Mongolia\", \"Qinghai\", \"Sichuan\", \"Heilongjiang\", \"Gansu\", \"Yunnan\", \"Guangxi\", \n",
    "          \"Hunan\", \"Shaanxi\", \"Guangdong\", \"Jilin\", \"Hebei\", \"Hubei\", \"Guizhou\", \"Shandong\", \"Jiangxi\", \"Henan\", \n",
    "          \"Liaoning\", \"Shanxi\", \"Anhui\", \"Fujian\", \"Zhejiang\", \"Jiangsu\", \"Chongqing\", \"Ningxia\", \"Hainan\", \"Taiwan\", \n",
    "          \"Beijing\", \"Tianjin\", \"Shanghai\", \"Hong Kong\", \"Macau\"]\n",
    "china[\"name\"] = pinyin"
   ]
  },
  {
   "cell_type": "code",
   "execution_count": null,
   "metadata": {},
   "outputs": [],
   "source": [
    "current = pd.merge(china, current, how=\"left\")\n",
    "current.loc[1, \"confirmed_cases\"] = 0\n",
    "current.loc[1, \"deaths\"] = 0\n",
    "current.loc[1, \"date\"] = \"20200212\"\n",
    "\n",
    "# current.loc[14, \"confirmed_cases\"] = 0"
   ]
  },
  {
   "cell_type": "code",
   "execution_count": null,
   "metadata": {},
   "outputs": [],
   "source": [
    "current"
   ]
  },
  {
   "cell_type": "code",
   "execution_count": null,
   "metadata": {},
   "outputs": [],
   "source": [
    "fig, ax = plt.subplots(1, figsize=(16, 10))\n",
    "current.plot(column=\"confirmed_cases\", cmap=\"Reds\", linewidth=0.8, edgecolor='0.8', ax=ax)\n",
    "ax.axis(\"off\")\n",
    "\n",
    "sm = plt.cm.ScalarMappable(cmap='Reds', norm=plt.Normalize(vmin=0, vmax=33366))\n",
    "cbar = fig.colorbar(sm)\n",
    "plt.show()"
   ]
  }
 ],
 "metadata": {
  "kernelspec": {
   "display_name": "Python 3",
   "language": "python",
   "name": "python3"
  },
  "language_info": {
   "codemirror_mode": {
    "name": "ipython",
    "version": 3
   },
   "file_extension": ".py",
   "mimetype": "text/x-python",
   "name": "python",
   "nbconvert_exporter": "python",
   "pygments_lexer": "ipython3",
   "version": "3.7.4"
  }
 },
 "nbformat": 4,
 "nbformat_minor": 4
}
